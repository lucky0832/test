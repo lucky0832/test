# -*- coding: utf-8 -*-
"""

    
from tkinter import * 
window=Tk() # add widgets here
btn=Button(window, text="Python Advanced Course", fg='blue') 
btn.place(x=250, y=150)
window.title('Hello Python') 
window.geometry("500x500+10+10") 
window.mainloop()

from tkinter import * 
master = Tk() 
var1 = IntVar() 
Checkbutton(master, text='male', 
            variable=var1).grid(row=0, 
                                sticky=W) 
var2 = IntVar() 
Checkbutton(master, 
            text='female', 
            variable=var2).grid(row=1, sticky=W) 
master.geometry("500x500+10+10") 
mainloop()

root = Tk() 
frame = Frame(root) 
frame.pack() 
bottomframe = Frame(root) 
bottomframe.pack( side = BOTTOM ) 
redbutton = Button(frame, text = 'Red', fg ='red') 
redbutton.pack( side = LEFT) 
greenbutton = Button(frame, text = 'Brown', fg='brown') 
greenbutton.pack( side = LEFT ) 
bluebutton = Button(frame, text ='Blue', fg ='blue') 
bluebutton.pack( side = LEFT ) 
blackbutton = Button(bottomframe, 
                     text ='Black', 
                     fg ='black') 
blackbutton.pack( side = BOTTOM) 
root.mainloop()




from tkinter import * 
window=Tk() 
btn=Button(window, text="This is Button widget", fg='blue') 
btn.place(x=80, y=100) 
lbl=Label(window, 
          text="This is Label widget", 
          fg='red', 
          font=("Helvetica", 16)) 
lbl.place(x=60, y=50) 
txtfld=Entry(window, 
             text="This is Entry Widget", 
             bd=5) 
txtfld.place(x=80, y=150) 
window.title('Hello Python') 
window.geometry("300x200+10+10") 
window.mainloop()



from tkinter import *
top = Tk() 
mb = Menubutton ( top, text = "LOK") 
mb.grid() 
mb.menu = Menu ( mb, tearoff = 0 )
mb.pack() 
top.mainloop()


root = Tk() 
menu = Menu(root) 
root.config(menu=menu) 
filemenu = Menu(menu) 
menu.add_cascade(label='File', menu=filemenu) 
filemenu.add_command(label='New') 
filemenu.add_command(label='Open...') 
filemenu.add_separator() 
filemenu.add_command(label='Exit', command=root.quit) 
helpmenu = Menu(menu) 
menu.add_cascade(label='Help', menu=helpmenu) 
helpmenu.add_command(label='About') 
mainloop()